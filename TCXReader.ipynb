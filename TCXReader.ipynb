{
 "cells": [
  {
   "cell_type": "code",
   "execution_count": 149,
   "metadata": {
    "collapsed": false
   },
   "outputs": [],
   "source": [
    "#http://stackoverflow.com/questions/32503826/how-can-i-grab-data-series-from-xml-or-tcx-file\n",
    "#https://github.com/vkurup/python-tcxparser/blob/master/tcxparser.py\n",
    "#http://www.diveintopython3.net/xml.html\n",
    "#imports\n",
    "import tcxparser as TCX\n",
    "import pprint,csv"
   ]
  },
  {
   "cell_type": "code",
   "execution_count": 156,
   "metadata": {
    "collapsed": false
   },
   "outputs": [],
   "source": [
    "xmlfile = 'demoRoute.tcx'\n",
    "data = TCX.TCXParser(xmlfile)"
   ]
  }
 ],
 "metadata": {
  "kernelspec": {
   "display_name": "Python 3",
   "language": "python",
   "name": "python3"
  },
  "language_info": {
   "codemirror_mode": {
    "name": "ipython",
    "version": 3
   },
   "file_extension": ".py",
   "mimetype": "text/x-python",
   "name": "python",
   "nbconvert_exporter": "python",
   "pygments_lexer": "ipython3",
   "version": "3.6.0"
  }
 },
 "nbformat": 4,
 "nbformat_minor": 2
}
