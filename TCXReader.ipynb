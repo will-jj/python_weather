{
 "cells": [
  {
   "cell_type": "code",
   "execution_count": 1,
   "metadata": {
    "collapsed": false
   },
   "outputs": [],
   "source": [
    "#http://stackoverflow.com/questions/32503826/how-can-i-grab-data-series-from-xml-or-tcx-file\n",
    "#https://github.com/vkurup/python-tcxparser/blob/master/tcxparser.py\n",
    "#http://www.diveintopython3.net/xml.html\n",
    "#TODO add wind bearing relative to rider\n",
    "#imports\n",
    "from numpy import *\n",
    "import tcxparser as TCX\n",
    "import pprint,csv"
   ]
  },
  {
   "cell_type": "code",
   "execution_count": 2,
   "metadata": {
    "collapsed": false
   },
   "outputs": [
    {
     "data": {
      "text/plain": [
       "array([   0,  145,  291,  436,  582,  727,  873, 1018, 1164, 1310])"
      ]
     },
     "execution_count": 2,
     "metadata": {},
     "output_type": "execute_result"
    }
   ],
   "source": [
    "xmlfile = 'demoRoute.tcx'\n",
    "data = TCX.TCXParser(xmlfile)\n",
    "end = len(data.time_values())\n",
    "samplePoints = 10\n",
    "ind = linspace(0, (end-1),samplePoints, endpoint=True, retstep=False, dtype=None)\n",
    "ind = floor(ind)\n",
    "ind = ind.astype(int)"
   ]
  },
  {
   "cell_type": "code",
   "execution_count": 3,
   "metadata": {
    "collapsed": false,
    "scrolled": true
   },
   "outputs": [
    {
     "data": {
      "text/plain": [
       "array([-4.38087  , -4.3313933, -4.31687  , -4.30074  , -4.18785  ,\n",
       "       -4.17816  , -4.23164  , -4.268    , -4.31112  , -4.38087  ])"
      ]
     },
     "execution_count": 3,
     "metadata": {},
     "output_type": "execute_result"
    }
   ],
   "source": [
    "data.activity.Track.Trackpoint.Position.getchildren()\n",
    "latitude =data.latitude_points()\n",
    "longitude = data.longitude_points()\n",
    "lat = array(latitude)\n",
    "lat = lat[ix_ (ind)]\n",
    "long = array(longitude)\n",
    "long = long[ix_ (ind)]"
   ]
  }
 ],
 "metadata": {
  "kernelspec": {
   "display_name": "Python 3",
   "language": "python",
   "name": "python3"
  },
  "language_info": {
   "codemirror_mode": {
    "name": "ipython",
    "version": 3
   },
   "file_extension": ".py",
   "mimetype": "text/x-python",
   "name": "python",
   "nbconvert_exporter": "python",
   "pygments_lexer": "ipython3",
   "version": "3.6.0"
  }
 },
 "nbformat": 4,
 "nbformat_minor": 2
}
