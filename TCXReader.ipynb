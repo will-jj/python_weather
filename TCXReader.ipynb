{
 "cells": [
  {
   "cell_type": "code",
   "execution_count": null,
   "metadata": {
    "collapsed": false
   },
   "outputs": [],
   "source": [
    "#TODO add wind bearing relative to rider\n",
    "#TODO consider #pip install gpxpy or just implement the maths\n",
    "#TODO create class based structure for the data and functions\n",
    "#imports\n",
    "import numpy as np\n",
    "import tcxparser\n",
    "import csv,json,requests,os\n",
    "from pprint import pprint"
   ]
  },
  {
   "cell_type": "code",
   "execution_count": 135,
   "metadata": {
    "collapsed": false
   },
   "outputs": [],
   "source": [
    "class tcxWeather:\n",
    "    \n",
    "    \n",
    "    def __init__(self, xmlfile='demoRoute.tcx'):\n",
    "        self.raw = tcxparser.TCXParser(xmlfile)\n",
    "        self.stravaTime = self.raw.time_values()\n",
    "        self.length = len(self.stravaTime)\n",
    "        self.latitude = self.raw.latitude_points()\n",
    "        self.longitude = self.raw.longitude_points()\n",
    "        self.distance = self.raw.distance_points()\n",
    "        self.__bearing__()      \n",
    "            \n",
    "            \n",
    "    def __bearing__(self):\n",
    "        self.bearing = list()\n",
    "        self.bearing.append(0) #first bearing 0\n",
    "        φ = list()\n",
    "        λ = list()\n",
    "        for x in self.latitude:\n",
    "            φ.append(np.deg2rad(x))\n",
    "        for x in self.longitude:\n",
    "            λ.append(np.deg2rad(x))\n",
    "        \n",
    "        for x in range(1,self.length):\n",
    "            y = np.sin(λ[x]-λ[x-1]) * np.cos(φ[x])\n",
    "            x = np.cos(φ[x-1])*np.sin(φ[x]) - np.sin(φ[x-1])*np.cos(φ[x])*np.cos(λ[x]-λ[x-1])\n",
    "            self.bearing.append(np.degrees(np.arctan2(y, x))%360)\n",
    "       \n",
    "    \n",
    "    def __bearingdec__(self): #fix to one function for both bearings\n",
    "        self.bear = list()\n",
    "        self.bear.append(0) #first bearing 0\n",
    "        φ = list()\n",
    "        λ = list()\n",
    "        for x in self.lat:\n",
    "            φ.append(np.deg2rad(x))\n",
    "        for x in self.lon:\n",
    "            λ.append(np.deg2rad(x))\n",
    "        \n",
    "        for x in range(1,len(self.lat)):\n",
    "            y = np.sin(λ[x]-λ[x-1]) * np.cos(φ[x])\n",
    "            x = np.cos(φ[x-1])*np.sin(φ[x]) - np.sin(φ[x-1])*np.cos(φ[x])*np.cos(λ[x]-λ[x-1])\n",
    "            self.bear.append(np.degrees(np.arctan2(y, x))%360) #0-360 instead of -180:180\n",
    "            \n",
    "       \n",
    "    def speed(self,**kwargs):\n",
    "        mps_mph = 2.23694\n",
    "        mps_kph = 3.6\n",
    "        if 'mph' in kwargs:\n",
    "            self.mph = kwargs['mph']\n",
    "            self.mps = self.mph/mps_mph\n",
    "            self.kph = self.mps*mps_kph\n",
    "        if 'kph' in kwargs:\n",
    "            self.kph = kwargs['kph']\n",
    "            self.mps = self.kph/mps_kph\n",
    "            self.mph = self.mps*mps_mph\n",
    "        if 'mps' in kwargs:\n",
    "            self.mps = kwargs['mps']\n",
    "            self.kph = self.mps*mps_kph\n",
    "            self.mph = self.mps*mps_mph\n",
    "            \n",
    "            \n",
    "    def decimate(self,**kwargs): #todo add variable input parameters such as dist=10km or time = 1hr or numpoints = 20\n",
    "        if 'Distance' in kwargs:\n",
    "            distance = kwargs['Distance']\n",
    "            distanceBetweenPoints = self.distance[1]-self.distance[0] #assumed constant should average or something\n",
    "            numPoints = self.length*(distanceBetweenPoints/distance)\n",
    "            numPoints = np.floor(numPoints).astype(int)\n",
    "        if 'Points' in kwargs:\n",
    "            numPoints = kwargs['Points']\n",
    "        if 'Time' in kwargs:\n",
    "            if hasattr(self, 'mps'):\n",
    "                print('TODO')\n",
    "            else:\n",
    "                raise Exception('no speed defined use x.Speed(mps =y | kph =z | mph =w)')\n",
    "            numPoints = 10\n",
    "        else:\n",
    "            numPoints = 10\n",
    "       \n",
    "        print('Decimating to {0} Points'.format(numPoints))   \n",
    "        ind = np.linspace(0, (self.length-1),numPoints, endpoint=True, retstep=False, dtype=None)\n",
    "        ind = np.floor(ind)\n",
    "        ind = ind.astype(int)\n",
    "        self.len = numPoints\n",
    "        self.lat = np.array(self.latitude)\n",
    "        self.lon = np.array(self.longitude)\n",
    "        self.dist = np.array(self.distance)\n",
    "        self.lat = self.lat[np.ix_(ind)]\n",
    "        self.lon = self.lon[np.ix_(ind)]\n",
    "        self.dist = self.dist[np.ix_(ind)]\n",
    "        self.__bearingdec__()\n",
    "        \n",
    "        \n",
    "    def getWeatherData(self,apikey='none',units='si',writeF=False):\n",
    "        self.weatherData = list()\n",
    "        if hasattr(self, 'len'):\n",
    "            print('Gathering weather data...')\n",
    "        else:\n",
    "            raise Exception('Data not decimated not making API call')\n",
    "\n",
    "        \n",
    "        for x in range(0,self.len):\n",
    "            url='https://api.darksky.net/forecast/{0}/{1},{2}?units={3}'.format(apikey,self.lat[x],self.lon[x],units)\n",
    "            data = (requests.get(url).content)\n",
    "            if writeF:\n",
    "                if not os.path.exists('weatherData'):\n",
    "                    os.makedirs('weatherData')\n",
    "                file = open('weatherData/weatherdataDemoTCX{0}.json'.format(x),'wb')     \n",
    "                file.write(data)\n",
    "                file.close\n",
    "            weatherData.append(json.load(data))\n",
    "        print('Gathered weather data')\n",
    "    \n",
    "    \n",
    "    def loadExistingData(self,location):\n",
    "        if hasattr(self,'weatherData'):\n",
    "             raise Exception('Data already exists')\n",
    "        self.weatherData = list()\n",
    "                   \n",
    "        for x in range(0,self.len):\n",
    "            filename = '{0}{1}.json'.format(location,x)\n",
    "            #print('Loading' filename)\n",
    "            with open(filename) as data_file:  \n",
    "                self.weatherData.append(json.load(data_file))\n",
    "\n",
    "            "
   ]
  },
  {
   "cell_type": "code",
   "execution_count": null,
   "metadata": {
    "collapsed": false
   },
   "outputs": [],
   "source": [
    "steve = tcxWeather()\n",
    "steve.decimate(Points=10)\n",
    "steve.loadExistingData('weatherData/weatherdataDemoTCX')\n",
    "#steve.getWeatherData(apikey='',units='si',writeF=True)\n"
   ]
  },
  {
   "cell_type": "code",
   "execution_count": null,
   "metadata": {
    "collapsed": false
   },
   "outputs": [],
   "source": [
    "#steve=tcxWeather()\n",
    "#steve.decimate(Points=10)\n",
    "pprint(steve.weatherData[0][\"hourly\"][\"data\"][0])"
   ]
  },
  {
   "cell_type": "code",
   "execution_count": null,
   "metadata": {
    "collapsed": false
   },
   "outputs": [],
   "source": [
    "pprint(steve.weatherData[0][\"hourly\"][\"data\"][0][\"precipIntensity\"])\n",
    "pprint(steve.weatherData[9][\"hourly\"][\"data\"][3][\"precipIntensity\"])"
   ]
  }
 ],
 "metadata": {
  "kernelspec": {
   "display_name": "Python 3",
   "language": "python",
   "name": "python3"
  },
  "language_info": {
   "codemirror_mode": {
    "name": "ipython",
    "version": 3
   },
   "file_extension": ".py",
   "mimetype": "text/x-python",
   "name": "python",
   "nbconvert_exporter": "python",
   "pygments_lexer": "ipython3",
   "version": "3.6.0"
  }
 },
 "nbformat": 4,
 "nbformat_minor": 2
}
