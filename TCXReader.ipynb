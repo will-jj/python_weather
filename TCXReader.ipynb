{
 "cells": [
  {
   "cell_type": "code",
   "execution_count": 3,
   "metadata": {
    "collapsed": false
   },
   "outputs": [],
   "source": [
    "#TODO add wind bearing relative to rider\n",
    "#TODO consider #pip install gpxpy or just implement the maths\n",
    "#TODO create class based structure for the data and functions\n",
    "#imports\n",
    "import numpy as np\n",
    "import tcxparser\n",
    "import csv,json,requests\n",
    "from pprint import pprint"
   ]
  },
  {
   "cell_type": "code",
   "execution_count": 73,
   "metadata": {
    "collapsed": false
   },
   "outputs": [],
   "source": [
    "class tcxWeather:\n",
    "    def __init__(self, xmlfile='demoRoute.tcx'):\n",
    "        self.raw = tcxparser.TCXParser(xmlfile)\n",
    "        self.stravaTime = self.raw.time_values()\n",
    "        self.length = len(self.stravaTime)\n",
    "        self.latitude = self.raw.latitude_points()\n",
    "        self.longitude = self.raw.longitude_points()\n",
    "        self.distance = self.raw.distance_points()\n",
    "        self.__bearing()\n",
    "        \n",
    "            \n",
    "            \n",
    "            \n",
    "            \n",
    "    def __bearing__(self):\n",
    "        self.bearing = list()\n",
    "        self.bearing.append(0) #first bearing 0\n",
    "        φ = list()\n",
    "        λ = list()\n",
    "        for x in self.latitude:\n",
    "            φ.append(np.deg2rad(x))\n",
    "        for x in self.longitude:\n",
    "            λ.append(np.deg2rad(x))\n",
    "        \n",
    "        for x in range(1,self.length):\n",
    "            y = np.sin(λ[x]-λ[x-1]) * np.cos(φ[x])\n",
    "            x = np.cos(φ[x-1])*np.sin(φ[x]) - np.sin(φ[x-1])*np.cos(φ[x])*np.cos(λ[x]-λ[x-1])\n",
    "            self.bearing.append(np.degrees(np.arctan2(y, x))%360)\n",
    "       \n",
    "    def __bearingdec__(self): #fix to one function or both bearings\n",
    "        self.bear = list()\n",
    "        self.bear.append(0) #first bearing 0\n",
    "        φ = list()\n",
    "        λ = list()\n",
    "        for x in self.lat:\n",
    "            φ.append(np.deg2rad(x))\n",
    "        for x in self.lon:\n",
    "            λ.append(np.deg2rad(x))\n",
    "        \n",
    "        for x in range(1,len(self.lat)):\n",
    "            y = np.sin(λ[x]-λ[x-1]) * np.cos(φ[x])\n",
    "            x = np.cos(φ[x-1])*np.sin(φ[x]) - np.sin(φ[x-1])*np.cos(φ[x])*np.cos(λ[x]-λ[x-1])\n",
    "            self.bear.append(np.degrees(np.arctan2(y, x))%360) #0-360 instead of -180:180\n",
    "            \n",
    "       \n",
    "        \n",
    "    def speed(self,**kwargs):\n",
    "        mps_mph = 2.23694\n",
    "        mps_kph = 3.6\n",
    "        if 'mph' in kwargs:\n",
    "            self.mph = kwargs['mph']\n",
    "            self.mps = self.mph/mps_mph\n",
    "            self.kph = self.mps*mps_kph\n",
    "        if 'kph' in kwargs:\n",
    "            self.kph = kwargs['kph']\n",
    "            self.mps = self.kph/mps_kph\n",
    "            self.mph = self.mps*mps_mph\n",
    "        if 'mps' in kwargs:\n",
    "            self.mps = kwargs['mps']\n",
    "            self.kph = self.mps*mps_kph\n",
    "            self.mph = self.mps*mps_mph\n",
    "            \n",
    "            \n",
    "    def decimate(self,**kwargs): #todo add variable input parameters such as dist=10km or time = 1hr or numpoints = 20\n",
    "        if 'Distance' in kwargs:\n",
    "            distance = kwargs['Distance']\n",
    "            distanceBetweenPoints = self.distance[1]-self.distance[0] #assumed constant should average or something\n",
    "            numPoints = self.length*(distanceBetweenPoints/distance)\n",
    "            numPoints = np.floor(numPoints).astype(int)\n",
    "        if 'Points' in kwargs:\n",
    "            numPoints = kwargs['Points']\n",
    "        if 'Time' in kwargs:\n",
    "            if hasattr(self, 'mps'):\n",
    "                print('TODO')\n",
    "            else:\n",
    "                raise Exception('no speed defined use x.Speed(mps =y | kph =z | mph =w)')\n",
    "            numPoints = 10\n",
    "       \n",
    "        print('Decimating to {0} Points'.format(numPoints))   \n",
    "        ind = np.linspace(0, (self.length-1),numPoints, endpoint=True, retstep=False, dtype=None)\n",
    "        ind = np.floor(ind)\n",
    "        ind = ind.astype(int)\n",
    "        self.lat = np.array(self.latitude)\n",
    "        self.lon = np.array(self.longitude)\n",
    "        self.dist = np.array(self.distance)\n",
    "        self.lat = self.lat[np.ix_(ind)]\n",
    "        self.lon = self.lon[np.ix_(ind)]\n",
    "        self.dist = self.dist[np.ix_(ind)]\n",
    "        self.__bearingdec()\n",
    "        "
   ]
  },
  {
   "cell_type": "code",
   "execution_count": 13,
   "metadata": {
    "collapsed": false
   },
   "outputs": [],
   "source": []
  },
  {
   "cell_type": "code",
   "execution_count": null,
   "metadata": {
    "collapsed": false
   },
   "outputs": [],
   "source": [
    "lat = lat[4]\n",
    "lon = lon[4]\n",
    "units = 'si'\n",
    "\n",
    "url = 'https://api.darksky.net/forecast/***REMOVED***/{0},{1}?units={2}'.format(lat,lon,units)\n",
    "\n",
    "retrieved = requests.get(url)\n",
    "file = open('weatherdataTest.json','wb') \n",
    "file.write(retrieved.content) \n",
    "file.close()"
   ]
  },
  {
   "cell_type": "code",
   "execution_count": null,
   "metadata": {
    "collapsed": false
   },
   "outputs": [],
   "source": [
    "with open('weatherdataTest.json') as data_file:    \n",
    "    weatherdata = json.load(data_file)\n"
   ]
  },
  {
   "cell_type": "code",
   "execution_count": 72,
   "metadata": {
    "collapsed": false
   },
   "outputs": [
    {
     "name": "stdout",
     "output_type": "stream",
     "text": [
      "Decimating to 10 Points\n"
     ]
    },
    {
     "data": {
      "text/plain": [
       "[0,\n",
       " 119.35382096883581,\n",
       " 6.7907175904860422,\n",
       " 10.272260035136416,\n",
       " 106.01554224226804,\n",
       " 165.64327278068686,\n",
       " 209.73542449356378,\n",
       " 200.1192870231674,\n",
       " 295.44569721383402,\n",
       " 310.71693186754334]"
      ]
     },
     "execution_count": 72,
     "metadata": {},
     "output_type": "execute_result"
    }
   ],
   "source": [
    "steve = tcxWeather('spooky.tcx')\n",
    "steve.decimate(Points=10)\n",
    "steve.bear"
   ]
  }
 ],
 "metadata": {
  "kernelspec": {
   "display_name": "Python 3",
   "language": "python",
   "name": "python3"
  },
  "language_info": {
   "codemirror_mode": {
    "name": "ipython",
    "version": 3
   },
   "file_extension": ".py",
   "mimetype": "text/x-python",
   "name": "python",
   "nbconvert_exporter": "python",
   "pygments_lexer": "ipython3",
   "version": "3.6.0"
  }
 },
 "nbformat": 4,
 "nbformat_minor": 2
}
