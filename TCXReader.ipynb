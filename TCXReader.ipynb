{
 "cells": [
  {
   "cell_type": "code",
   "execution_count": null,
   "metadata": {
    "collapsed": false
   },
   "outputs": [],
   "source": [
    "#http://stackoverflow.com/questions/32503826/how-can-i-grab-data-series-from-xml-or-tcx-file\n",
    "#https://github.com/vkurup/python-tcxparser/blob/master/tcxparser.py\n",
    "#http://www.diveintopython3.net/xml.html\n",
    "#TODO add wind bearing relative to rider\n",
    "#imports\n",
    "import numpy as np\n",
    "import tcxparser as TCX\n",
    "import pprint,csv"
   ]
  },
  {
   "cell_type": "code",
   "execution_count": null,
   "metadata": {
    "collapsed": false
   },
   "outputs": [],
   "source": [
    "xmlfile = 'demoRoute.tcx'\n",
    "data = TCX.TCXParser(xmlfile)\n",
    "end = len(data.time_values())\n",
    "samplePoints = 10\n",
    "ind = np.linspace(0, (end-1),samplePoints, endpoint=True, retstep=False, dtype=None)\n",
    "ind = np.floor(ind)\n",
    "ind = ind.astype(int)"
   ]
  },
  {
   "cell_type": "code",
   "execution_count": null,
   "metadata": {
    "collapsed": false,
    "scrolled": true
   },
   "outputs": [],
   "source": [
    "data.activity.Track.Trackpoint.Position.getchildren()\n",
    "latitude =data.latitude_points()\n",
    "longitude = data.longitude_points()\n",
    "lat = np.array(latitude)\n",
    "lat = lat[np.ix_ (ind)]\n",
    "lon = np.array(longitude)\n",
    "lon = lon[np.ix_ (ind)]\n",
    "latR = np.deg2rad(lat)\n",
    "lonR = np.deg2rad(lon)"
   ]
  },
  {
   "cell_type": "code",
   "execution_count": null,
   "metadata": {
    "collapsed": false
   },
   "outputs": [],
   "source": [
    "#pip install gpxpy or the maths!\n",
    "#https://nssdc.gsfc.nasa.gov/planetary/factsheet/earthfact.html\n",
    "#not actually needed as Strava has already supplied this data\n",
    "def distance(lat1,lat2,lon1,lon2):\n",
    "    \"This calculates distance between two coordinates\"\n",
    "    R = 6371.008 #mean earth radius in km\n",
    "    (latR1,latR2,lonR1,lonR2) = [np.deg2rad(x) for x in (lat1,lat2,lon1,lon2)]\n",
    "    dlat = latR2-latR1\n",
    "    dlon = lonR2-lonR1\n",
    "    a = np.sin(dlat / 2)**2 + np.cos(latR1) * np.cos(latR2) * np.sin(dlon / 2)**2\n",
    "    c = 2 * np.arctan2(np.sqrt(a), np.sqrt(1 - a))\n",
    "    dist = R*c\n",
    "    return dist;\n",
    "\n"
   ]
  },
  {
   "cell_type": "code",
   "execution_count": null,
   "metadata": {
    "collapsed": false
   },
   "outputs": [],
   "source": [
    "dist = distance(lat[1],lat[2],lon[1],lon[2])\n",
    "dist"
   ]
  },
  {
   "cell_type": "code",
   "execution_count": null,
   "metadata": {
    "collapsed": false
   },
   "outputs": [],
   "source": [
    "[np.deg2rad(x) for x in (1,2,3,4)]"
   ]
  },
  {
   "cell_type": "code",
   "execution_count": null,
   "metadata": {
    "collapsed": false
   },
   "outputs": [],
   "source": [
    " (lat1,lat2,lon1,lon2) = [np.deg2rad(x) for x in (1,2,3,4)]"
   ]
  },
  {
   "cell_type": "code",
   "execution_count": null,
   "metadata": {
    "collapsed": false
   },
   "outputs": [],
   "source": []
  },
  {
   "cell_type": "code",
   "execution_count": null,
   "metadata": {
    "collapsed": true
   },
   "outputs": [],
   "source": []
  }
 ],
 "metadata": {
  "kernelspec": {
   "display_name": "Python 3",
   "language": "python",
   "name": "python3"
  },
  "language_info": {
   "codemirror_mode": {
    "name": "ipython",
    "version": 3
   },
   "file_extension": ".py",
   "mimetype": "text/x-python",
   "name": "python",
   "nbconvert_exporter": "python",
   "pygments_lexer": "ipython3",
   "version": "3.6.0"
  }
 },
 "nbformat": 4,
 "nbformat_minor": 2
}
