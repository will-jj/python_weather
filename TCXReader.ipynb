{
 "cells": [
  {
   "cell_type": "code",
   "execution_count": 2,
   "metadata": {
    "collapsed": false
   },
   "outputs": [],
   "source": [
    "#http://stackoverflow.com/questions/32503826/how-can-i-grab-data-series-from-xml-or-tcx-file\n",
    "#https://github.com/vkurup/python-tcxparser/blob/master/tcxparser.py\n",
    "#http://www.diveintopython3.net/xml.html\n",
    "#TODO add wind bearing relative to rider\n",
    "#TODO create class based structure for the data and functions!\n",
    "#imports\n",
    "import numpy as np\n",
    "import tcxparser\n",
    "import csv,json,requests\n",
    "from pprint import pprint"
   ]
  },
  {
   "cell_type": "code",
   "execution_count": 14,
   "metadata": {
    "collapsed": false
   },
   "outputs": [],
   "source": [
    "class tcxWeather:\n",
    "    def __init__(self, xmlfile):\n",
    "        self.raw = tcxparser.TCXParser(xmlfile)\n",
    "        self.stravaTime = self.raw.time_values()\n",
    "        self.length = len(self.stravaTime)\n",
    "        self.latitude = self.raw.latitude_points()\n",
    "        self.longitude = self.raw.longitude_points()\n",
    "        self.distance = self.raw.distance_points()\n",
    "        \n",
    "   \n",
    "    def speed(self,**kwargs):\n",
    "        mps_mph = 2.23694\n",
    "        mps_kph = 3.6\n",
    "        if 'mph' in kwargs:\n",
    "            self.mph = kwargs['mph']\n",
    "            self.mps = self.mph/mps_mph\n",
    "            self.kph = self.mps*mps_kph\n",
    "        if 'kph' in kwargs:\n",
    "            self.kph = kwargs['kph']\n",
    "            self.mps = self.kph/mps_kph\n",
    "            self.mph = self.mps*mps_mph\n",
    "        if 'mps' in kwargs:\n",
    "            self.mps = kwargs['mps']\n",
    "            self.kph = self.mps*mps_kph\n",
    "            self.mph = self.mps*mps_mph\n",
    "            \n",
    "            \n",
    "    def decimate(self,**kwargs): #todo add variable input parameters such as dist=10km or time = 1hr or numpoints = 20\n",
    "        if 'Distance' in kwargs:\n",
    "            distance = kwargs['Distance']\n",
    "            distanceBetweenPoints = self.distance[1]-self.distance[0] #assumed constant should average or something\n",
    "            numPoints = self.length*(distanceBetweenPoints/distance)\n",
    "            numPoints = np.floor(numPoints).astype(int)\n",
    "        if 'Points' in kwargs:\n",
    "            numPoints = kwargs['Points']\n",
    "        if 'Time' in kwargs:\n",
    "            if hasattr(self, 'mps'):\n",
    "                print('TODO')\n",
    "            else:\n",
    "                raise Exception('no speed defined use x.Speed(mps =y | kph =z | mph =w)')\n",
    "            numPoints = 10\n",
    "       \n",
    "        print('Decimating to {0} Points'.format(numPoints))   \n",
    "        ind = np.linspace(0, (self.length-1),numPoints, endpoint=True, retstep=False, dtype=None)\n",
    "        ind = np.floor(ind)\n",
    "        ind = ind.astype(int)\n",
    "        self.lat = np.array(self.latitude)\n",
    "        self.lon = np.array(self.longitude)\n",
    "        self.dist = np.array(self.distance)\n",
    "        self.lat = self.lat[np.ix_(ind)]\n",
    "        self.lon = self.lon[np.ix_(ind)]\n",
    "        self.dist = self.dist[np.ix_(ind)]\n",
    "        "
   ]
  },
  {
   "cell_type": "code",
   "execution_count": 5,
   "metadata": {
    "collapsed": false
   },
   "outputs": [],
   "source": [
    "#Read the data\n",
    "xmlfile = 'demoRoute.tcx'\n",
    "data = tcxWeather"
   ]
  },
  {
   "cell_type": "code",
   "execution_count": null,
   "metadata": {
    "collapsed": false
   },
   "outputs": [],
   "source": [
    "lat = lat[4]\n",
    "lon = lon[4]\n",
    "units = 'si'\n",
    "\n",
    "url = 'https://api.darksky.net/forecast/***REMOVED***/{0},{1}?units={2}'.format(lat,lon,units)\n",
    "\n",
    "retrieved = requests.get(url)\n",
    "file = open('weatherdataTest.json','wb') \n",
    "file.write(retrieved.content) \n",
    "file.close()"
   ]
  },
  {
   "cell_type": "code",
   "execution_count": null,
   "metadata": {
    "collapsed": false
   },
   "outputs": [],
   "source": [
    "with open('weatherdataTest.json') as data_file:    \n",
    "    weatherdata = json.load(data_file)\n"
   ]
  },
  {
   "cell_type": "code",
   "execution_count": 20,
   "metadata": {
    "collapsed": false
   },
   "outputs": [
    {
     "name": "stdout",
     "output_type": "stream",
     "text": [
      "Decimating to 100 Points\n"
     ]
    }
   ],
   "source": [
    "steve = tcxWeather(xmlfile)\n",
    "steve.decimate(Points=100)"
   ]
  },
  {
   "cell_type": "code",
   "execution_count": null,
   "metadata": {
    "collapsed": true
   },
   "outputs": [],
   "source": [
    "#Bearing http://www.movable-type.co.uk/scripts/latlong.html\n",
    "y = np.sin(λ2-λ1) * np.cos(φ2)\n",
    "x = np.cos(φ1)*np.sin(φ2) - np.sin(φ1)*np.cos(φ2)*np.cos(λ2-λ1)\n",
    "brng = Math.atan2(y, x).toDegrees();"
   ]
  },
  {
   "cell_type": "code",
   "execution_count": null,
   "metadata": {
    "collapsed": false
   },
   "outputs": [],
   "source": [
    "#pip install gpxpy or the maths!\n",
    "#https://nssdc.gsfc.nasa.gov/planetary/factsheet/earthfact.html\n",
    "#not actually needed as Strava has already supplied this data\n",
    "def distance(lat1,lat2,lon1,lon2):\n",
    "    \"This calculates distance between two coordinates\"\n",
    "    R = 6371.008 #mean earth radius in km\n",
    "    (latR1,latR2,lonR1,lonR2) = [np.deg2rad(x) for x in (lat1,lat2,lon1,lon2)]\n",
    "    dlat = latR2-latR1\n",
    "    dlon = lonR2-lonR1\n",
    "    a = np.sin(dlat / 2)**2 + np.cos(latR1) * np.cos(latR2) * np.sin(dlon / 2)**2\n",
    "    c = 2 * np.arctan2(np.sqrt(a), np.sqrt(1 - a))\n",
    "    dist = R*c\n",
    "    return dist;\n"
   ]
  }
 ],
 "metadata": {
  "kernelspec": {
   "display_name": "Python 3",
   "language": "python",
   "name": "python3"
  },
  "language_info": {
   "codemirror_mode": {
    "name": "ipython",
    "version": 3
   },
   "file_extension": ".py",
   "mimetype": "text/x-python",
   "name": "python",
   "nbconvert_exporter": "python",
   "pygments_lexer": "ipython3",
   "version": "3.6.0"
  }
 },
 "nbformat": 4,
 "nbformat_minor": 2
}
