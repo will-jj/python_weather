{
 "cells": [
  {
   "cell_type": "code",
   "execution_count": 1,
   "metadata": {
    "collapsed": false
   },
   "outputs": [],
   "source": [
    "#TODO add wind bearing relative to rider\n",
    "#TODO consider #pip install gpxpy or just implement the maths\n",
    "#TODO create class based structure for the data and functions\n",
    "#TODO darksky implements minute by minute for one hour and hour by hour for 48 hours\n",
    "#imports\n",
    "import numpy as np\n",
    "import tcxparser\n",
    "import csv,json,requests,os,time,calendar\n",
    "from pprint import pprint\n",
    "from datetime import datetime"
   ]
  },
  {
   "cell_type": "code",
   "execution_count": 2,
   "metadata": {
    "collapsed": false
   },
   "outputs": [],
   "source": [
    "class tcxWeather:\n",
    "    \n",
    "    \n",
    "    def __init__(self, xmlfile='demoRoute.tcx'):\n",
    "        self.raw = tcxparser.TCXParser(xmlfile)\n",
    "        self.stravaTime = self.raw.time_values()\n",
    "        self.length = len(self.stravaTime)\n",
    "        self.latitude = self.raw.latitude_points()\n",
    "        self.longitude = self.raw.longitude_points()\n",
    "        self.distance = self.raw.distance_points()\n",
    "        self.distanceTotal = self.distance[self.length-1]\n",
    "        self.__bearing__()      \n",
    "            \n",
    "            \n",
    "    def __bearing__(self):\n",
    "        self.bearing = list()\n",
    "        self.bearing.append(0) #first bearing 0\n",
    "        φ = list()\n",
    "        λ = list()\n",
    "        for x in self.latitude:\n",
    "            φ.append(np.deg2rad(x))\n",
    "        for x in self.longitude:\n",
    "            λ.append(np.deg2rad(x))\n",
    "        \n",
    "        for x in range(1,self.length):\n",
    "            y = np.sin(λ[x]-λ[x-1]) * np.cos(φ[x])\n",
    "            x = np.cos(φ[x-1])*np.sin(φ[x]) - np.sin(φ[x-1])*np.cos(φ[x])*np.cos(λ[x]-λ[x-1])\n",
    "            self.bearing.append(np.degrees(np.arctan2(y, x))%360)\n",
    "       \n",
    "    \n",
    "    def __bearingdec__(self): #fix to one function for both bearings\n",
    "        self.bear = list()\n",
    "        self.bear.append(0) #first bearing 0\n",
    "        φ = list()\n",
    "        λ = list()\n",
    "        for x in self.lat:\n",
    "            φ.append(np.deg2rad(x))\n",
    "        for x in self.lon:\n",
    "            λ.append(np.deg2rad(x))\n",
    "        \n",
    "        for x in range(1,len(self.lat)):\n",
    "            y = np.sin(λ[x]-λ[x-1]) * np.cos(φ[x])\n",
    "            x = np.cos(φ[x-1])*np.sin(φ[x]) - np.sin(φ[x-1])*np.cos(φ[x])*np.cos(λ[x]-λ[x-1])\n",
    "            self.bear.append(np.degrees(np.arctan2(y, x))%360) #0-360 instead of -180:180\n",
    "            \n",
    "       \n",
    "    def speed(self,**kwargs):\n",
    "        mps_mph = 2.23694\n",
    "        mps_kph = 3.6\n",
    "        if 'mph' in kwargs:\n",
    "            self.mph = kwargs['mph']\n",
    "            self.mps = self.mph/mps_mph\n",
    "            self.kph = self.mps*mps_kph\n",
    "        elif 'kph' in kwargs:\n",
    "            self.kph = kwargs['kph']\n",
    "            self.mps = self.kph/mps_kph\n",
    "            self.mph = self.mps*mps_mph\n",
    "        elif 'mps' in kwargs:\n",
    "            self.mps = kwargs['mps']\n",
    "            self.kph = self.mps*mps_kph\n",
    "            self.mph = self.mps*mps_mph\n",
    "        self.__time__()\n",
    "        \n",
    "        \n",
    "            \n",
    "            \n",
    "            \n",
    "    def decimate(self,**kwargs): #todo add variable input parameters such as dist=10km or time = 1hr or numpoints = 20\n",
    "        if 'Distance' in kwargs:\n",
    "            distance = kwargs['Distance']\n",
    "            #points not constant this is average\n",
    "            numPoints = self.distanceTotal/distance\n",
    "            \n",
    "        if 'Points' in kwargs:\n",
    "            numPoints = kwargs['Points']\n",
    "        if 'Time' in kwargs:\n",
    "            if hasattr(self, 'mps'):\n",
    "                numPoints = self.totalTime/kwargs['Time']\n",
    "            else:\n",
    "                raise Exception('no speed defined use x.Speed(mps =y | kph =z | mph =w)')\n",
    "            \n",
    "        else:\n",
    "            numPoints = 10\n",
    "        numPoints = np.floor(numPoints).astype(int)\n",
    "        print('Decimating to {0} Points'.format(numPoints))   \n",
    "        ind = np.linspace(0, (self.length-1),numPoints, endpoint=True, retstep=False, dtype=None)\n",
    "        ind = np.floor(ind)\n",
    "        ind = ind.astype(int)\n",
    "        self.len = numPoints\n",
    "        self.lat = np.array(self.latitude)\n",
    "        self.lon = np.array(self.longitude)\n",
    "        self.dist = np.array(self.distance)\n",
    "        self.lat = self.lat[np.ix_(ind)]\n",
    "        self.lon = self.lon[np.ix_(ind)]\n",
    "        self.dist = self.dist[np.ix_(ind)]\n",
    "        self.__bearingdec__()\n",
    "        self.__timeDec__()\n",
    "        \n",
    "    def __timeDec__(self):\n",
    "        self.timeSecs = list()\n",
    "        self.timeMin = list()\n",
    "        self.timeHr = list()\n",
    "        self.timeSecs.append(0)\n",
    "        self.timeMin.append(0)\n",
    "        self.timeHr.append(0)\n",
    "        time=0\n",
    "        for x in range(1,self.len):\n",
    "            delDist = self.dist[x]-self.dist[x-1]\n",
    "            time += delDist/self.mps\n",
    "            self.timeMin.append(int (np.round(time/60)))\n",
    "            self.timeHr.append(int (np.round(time/3600)))\n",
    "            self.timeSecs.append(int (time))\n",
    "        \n",
    "    def __time__(self):\n",
    "        self.timeSeconds = list()\n",
    "        self.timeSeconds.append(0)\n",
    "        time=0\n",
    "        for x in range(1,self.length):\n",
    "            delDist = self.distance[x]-self.distance[x-1]\n",
    "            time += delDist/self.mps\n",
    "            self.timeSeconds.append(int (time))\n",
    "        self.totalTime = time           \n",
    "        \n",
    "        \n",
    "    def getWeatherData(self,apikey='none',units='si',writeF=False):\n",
    "        if hasattr(self,'weatherData'):\n",
    "             raise Exception('Data already exists')\n",
    "        self.weatherData = list()\n",
    "        \n",
    "        if hasattr(self, 'len'):\n",
    "            print('Gathering weather data...')\n",
    "        else:\n",
    "            raise Exception('Data not decimated not making API call')\n",
    "\n",
    "        \n",
    "        for x in range(0,self.len):\n",
    "            url='https://api.darksky.net/forecast/{0}/{1},{2}?exclude=daily,alerts,flags?units={3}'.format(apikey,self.lat[x],self.lon[x],units)\n",
    "            data = (requests.get(url).content)\n",
    "            if writeF:\n",
    "                if not os.path.exists('weatherData'):\n",
    "                    os.makedirs('weatherData')\n",
    "                file = open('weatherData/weatherdataDemoTCX{0}.json'.format(x),'wb')     \n",
    "                file.write(data)\n",
    "                file.close\n",
    "            self.weatherData.append(json.loads(data))\n",
    "        print('Gathered weather data')\n",
    "    \n",
    "    \n",
    "    def loadExistingData(self,location):\n",
    "        if hasattr(self,'weatherData'):\n",
    "             raise Exception('Data already exists')\n",
    "        self.weatherData = list()\n",
    "                   \n",
    "        for x in range(0,self.len):\n",
    "            filename = '{0}{1}.json'.format(location,x)\n",
    "            #print('Loading' filename)\n",
    "            with open(filename) as data_file:  \n",
    "                self.weatherData.append(json.load(data_file))\n",
    "\n",
    "    def clearWeatherData(self):\n",
    "        del self.weatherData\n",
    "            \n",
    "    def getForecast(self):\n",
    "        self.precipIntensity= list()\n",
    "        for x in range(0,self.len):\n",
    "            self.precipIntensity.append(self.weatherData[x][\"hourly\"][\"data\"][self.timeHr[x]][\"precipIntensity\"])\n",
    "            "
   ]
  },
  {
   "cell_type": "code",
   "execution_count": 3,
   "metadata": {
    "collapsed": false
   },
   "outputs": [
    {
     "name": "stdout",
     "output_type": "stream",
     "text": [
      "Decimating to 9 Points\n"
     ]
    },
    {
     "data": {
      "text/plain": [
       "[0, 0, 0.16, 0.1676, 0.1651, 0.0203, 0.0254, 0.0279, 0.0254]"
      ]
     },
     "execution_count": 3,
     "metadata": {},
     "output_type": "execute_result"
    }
   ],
   "source": [
    "steve= tcxWeather()\n",
    "steve.speed(kph=25)\n",
    "steve.decimate(Time=1000)\n",
    "steve.loadExistingData('weatherData/weatherdataDemoTCX')\n",
    "steve.timeHr\n",
    "steve.getForecast()\n",
    "steve.precipIntensity\n",
    "#steve.getWeatherData(apikey='XXXXXXXXXX',units='si',writeF=True)"
   ]
  },
  {
   "cell_type": "code",
   "execution_count": 5,
   "metadata": {
    "collapsed": false
   },
   "outputs": [
    {
     "data": {
      "text/plain": [
       "1489430400"
      ]
     },
     "execution_count": 5,
     "metadata": {},
     "output_type": "execute_result"
    }
   ],
   "source": [
    "epoch_time = int(time.time())\n",
    "epoch_time\n",
    "ride_start_hour = 18\n",
    "ride_start_minute =40\n",
    "value = datetime.fromtimestamp(epoch_time)\n",
    "hour = (value.strftime('%H'))\n",
    "minute = (value.strftime('%M')) \n",
    "second = (value.strftime('%S')) \n",
    "hour = int (hour)\n",
    "minute = int (minute)\n",
    "second = int (second)\n",
    "seconds = hour*60*60+minute*60+second\n",
    "epoch_time = int(time.time())\n",
    "epoch_time\n",
    "\n",
    "epoch_start = epoch_time+ride_start_hour*60*60+ride_start_minute*60-seconds\n",
    "epoch_start\n",
    "\n",
    "#work out speed \n",
    "#work out arrival time at each block "
   ]
  },
  {
   "cell_type": "code",
   "execution_count": null,
   "metadata": {
    "collapsed": false
   },
   "outputs": [],
   "source": [
    "pprint(steve.weatherData[0][\"hourly\"][\"data\"][0][\"precipIntensity\"])\n",
    "pprint(steve.weatherData[8][\"hourly\"][\"data\"][0][\"precipIntensity\"])"
   ]
  },
  {
   "cell_type": "code",
   "execution_count": null,
   "metadata": {
    "collapsed": true
   },
   "outputs": [],
   "source": [
    "steve.speed(mps=5)"
   ]
  },
  {
   "cell_type": "code",
   "execution_count": 7,
   "metadata": {
    "collapsed": false
   },
   "outputs": [
    {
     "data": {
      "text/plain": [
       "10"
      ]
     },
     "execution_count": 7,
     "metadata": {},
     "output_type": "execute_result"
    }
   ],
   "source": [
    "np.round(10)"
   ]
  },
  {
   "cell_type": "code",
   "execution_count": null,
   "metadata": {
    "collapsed": true
   },
   "outputs": [],
   "source": []
  }
 ],
 "metadata": {
  "kernelspec": {
   "display_name": "Python 3",
   "language": "python",
   "name": "python3"
  },
  "language_info": {
   "codemirror_mode": {
    "name": "ipython",
    "version": 3
   },
   "file_extension": ".py",
   "mimetype": "text/x-python",
   "name": "python",
   "nbconvert_exporter": "python",
   "pygments_lexer": "ipython3",
   "version": "3.6.0"
  }
 },
 "nbformat": 4,
 "nbformat_minor": 2
}
