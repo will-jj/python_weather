{
 "cells": [
  {
   "cell_type": "code",
   "execution_count": null,
   "metadata": {
    "collapsed": false
   },
   "outputs": [],
   "source": [
    "import tcxWeather \n",
    "from pprint import pprint\n"
   ]
  },
  {
   "cell_type": "code",
   "execution_count": null,
   "metadata": {
    "collapsed": false
   },
   "outputs": [],
   "source": [
    "steve= tcxWeather.tcxWeather()\n",
    "steve.speed(kph=25)\n",
    "steve.setRideStartTime(date =\"12/03\", time = \"15:32\")\n",
    "steve.decimate(Time=1000)\n",
    "steve.loadExistingData('weatherData/weatherdataDemoTCX')\n",
    "steve.getForecast()\n",
    "pprint(steve.precipIntensity)\n",
    "print('Wind bearing:' ,steve.windBearing[3])\n",
    "print('Rider bearing:' ,steve.bear[3])\n",
    "print('Rel bearing:',steve.relWindBear[3])\n",
    "##steve.getWeatherData(apikey='XXXXXXXXXX',units='si',writeF=True)"
   ]
  },
  {
   "cell_type": "code",
   "execution_count": null,
   "metadata": {
    "collapsed": true
   },
   "outputs": [],
   "source": []
  }
 ],
 "metadata": {
  "kernelspec": {
   "display_name": "Python [default]",
   "language": "python",
   "name": "python3"
  },
  "language_info": {
   "codemirror_mode": {
    "name": "ipython",
    "version": 3
   },
   "file_extension": ".py",
   "mimetype": "text/x-python",
   "name": "python",
   "nbconvert_exporter": "python",
   "pygments_lexer": "ipython3",
   "version": "3.5.2"
  }
 },
 "nbformat": 4,
 "nbformat_minor": 1
}
