{
 "cells": [
  {
   "cell_type": "code",
   "execution_count": 8,
   "metadata": {
    "collapsed": false
   },
   "outputs": [],
   "source": [
    "%matplotlib notebook\n",
    "import tcxWeather \n",
    "from pprint import pprint\n",
    "from matplotlib import pyplot as plt\n",
    "from matplotlib import dates as dt\n",
    "import numpy as np\n",
    "import datetime"
   ]
  },
  {
   "cell_type": "code",
   "execution_count": 9,
   "metadata": {
    "collapsed": false
   },
   "outputs": [
    {
     "name": "stdout",
     "output_type": "stream",
     "text": [
      "Decimating to 9 Points\n",
      "[0.1702, 0.0279, 0.0279, 0.0254, 0.0229, 0.0229, 0.0254, 0, 0]\n",
      "Wind bearing: 234\n",
      "Rider bearing: 48.4035718624\n",
      "Rel bearing: 185.596428138\n"
     ]
    }
   ],
   "source": [
    "steve= tcxWeather.tcxWeather()\n",
    "steve.speed(kph=25)\n",
    "steve.setRideStartTime(date =\"12/03\", time = \"15:32\")\n",
    "steve.decimate(Time=1000)\n",
    "steve.loadExistingData('weatherData/weatherdataDemoTCX')\n",
    "steve.getForecast()\n",
    "pprint(steve.precipIntensity)\n",
    "print('Wind bearing:' ,steve.windBearing[3])\n",
    "print('Rider bearing:' ,steve.bear[3])\n",
    "print('Rel bearing:',steve.relWindBear[3])\n",
    "##steve.getWeatherData(apikey='XXXXXXXXXX',units='si',writeF=True)"
   ]
  },
  {
   "cell_type": "code",
   "execution_count": null,
   "metadata": {
    "collapsed": false
   },
   "outputs": [],
   "source": [
    "z = plt\n",
    "z.plot(steve.timeMin,steve.relWindBear,'r--')\n",
    "z.xlabel('Time [mins]')\n",
    "z.ylabel('Wind Bearing')\n",
    "z.title('Title')"
   ]
  },
  {
   "cell_type": "code",
   "execution_count": null,
   "metadata": {
    "collapsed": false
   },
   "outputs": [],
   "source": [
    "plt.plot(y,rain,'gs')"
   ]
  },
  {
   "cell_type": "code",
   "execution_count": null,
   "metadata": {
    "collapsed": false
   },
   "outputs": [],
   "source": [
    "y = list() # bug(?) steve.time has 9 epoch times on end\n",
    "for x in range(0,9):\n",
    "    z = datetime.datetime(steve.time[x].year, steve.time[x].month, steve.time[x].day, steve.time[x].hour, steve.time[x].minute)\n",
    "    y.append(z)\n"
   ]
  },
  {
   "cell_type": "code",
   "execution_count": null,
   "metadata": {
    "collapsed": false
   },
   "outputs": [],
   "source": [
    "nums = dt.date2num(y)"
   ]
  },
  {
   "cell_type": "code",
   "execution_count": null,
   "metadata": {
    "collapsed": false
   },
   "outputs": [],
   "source": [
    "num = list(nums)"
   ]
  },
  {
   "cell_type": "code",
   "execution_count": null,
   "metadata": {
    "collapsed": false
   },
   "outputs": [],
   "source": [
    "num = np.array(num)"
   ]
  },
  {
   "cell_type": "code",
   "execution_count": null,
   "metadata": {
    "collapsed": false
   },
   "outputs": [],
   "source": [
    "num"
   ]
  },
  {
   "cell_type": "code",
   "execution_count": null,
   "metadata": {
    "collapsed": true
   },
   "outputs": [],
   "source": [
    "rain = np.array(steve.precipIntensity)"
   ]
  },
  {
   "cell_type": "code",
   "execution_count": null,
   "metadata": {
    "collapsed": false
   },
   "outputs": [],
   "source": [
    "y[1]"
   ]
  },
  {
   "cell_type": "code",
   "execution_count": null,
   "metadata": {
    "collapsed": true
   },
   "outputs": [],
   "source": [
    "from datetime import datetime, timedelta, date, time"
   ]
  },
  {
   "cell_type": "code",
   "execution_count": null,
   "metadata": {
    "collapsed": false
   },
   "outputs": [],
   "source": [
    "timedelta(seconds=5)"
   ]
  },
  {
   "cell_type": "code",
   "execution_count": 7,
   "metadata": {
    "collapsed": false
   },
   "outputs": [
    {
     "data": {
      "text/plain": [
       "[datetime.datetime(2017, 3, 12, 15, 32, tzinfo=<DstTzInfo 'Europe/London' GMT0:00:00 STD>),\n",
       " datetime.datetime(2017, 3, 12, 15, 51, 2, tzinfo=<DstTzInfo 'Europe/London' GMT0:00:00 STD>),\n",
       " datetime.datetime(2017, 3, 12, 16, 11, 6, tzinfo=<DstTzInfo 'Europe/London' GMT0:00:00 STD>),\n",
       " datetime.datetime(2017, 3, 12, 16, 30, 56, tzinfo=<DstTzInfo 'Europe/London' GMT0:00:00 STD>),\n",
       " datetime.datetime(2017, 3, 12, 16, 52, 50, tzinfo=<DstTzInfo 'Europe/London' GMT0:00:00 STD>),\n",
       " datetime.datetime(2017, 3, 12, 17, 11, 14, tzinfo=<DstTzInfo 'Europe/London' GMT0:00:00 STD>),\n",
       " datetime.datetime(2017, 3, 12, 17, 31, 51, tzinfo=<DstTzInfo 'Europe/London' GMT0:00:00 STD>),\n",
       " datetime.datetime(2017, 3, 12, 17, 54, 9, tzinfo=<DstTzInfo 'Europe/London' GMT0:00:00 STD>),\n",
       " datetime.datetime(2017, 3, 12, 18, 13, 38, tzinfo=<DstTzInfo 'Europe/London' GMT0:00:00 STD>),\n",
       " 1489330800,\n",
       " 1489334400,\n",
       " 1489334400,\n",
       " 1489334400,\n",
       " 1489338000,\n",
       " 1489338000,\n",
       " 1489338000,\n",
       " 1489341600,\n",
       " 1489341600]"
      ]
     },
     "execution_count": 7,
     "metadata": {},
     "output_type": "execute_result"
    }
   ],
   "source": [
    "steve.time"
   ]
  },
  {
   "cell_type": "code",
   "execution_count": null,
   "metadata": {
    "collapsed": true
   },
   "outputs": [],
   "source": []
  }
 ],
 "metadata": {
  "anaconda-cloud": {},
  "kernelspec": {
   "display_name": "Python [default]",
   "language": "python",
   "name": "python3"
  },
  "language_info": {
   "codemirror_mode": {
    "name": "ipython",
    "version": 3
   },
   "file_extension": ".py",
   "mimetype": "text/x-python",
   "name": "python",
   "nbconvert_exporter": "python",
   "pygments_lexer": "ipython3",
   "version": "3.5.2"
  }
 },
 "nbformat": 4,
 "nbformat_minor": 1
}
